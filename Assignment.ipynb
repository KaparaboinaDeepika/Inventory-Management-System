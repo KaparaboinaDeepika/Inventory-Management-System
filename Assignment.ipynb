{
  "nbformat": 4,
  "nbformat_minor": 0,
  "metadata": {
    "colab": {
      "name": "Assignment.ipynb",
      "provenance": [],
      "collapsed_sections": []
    },
    "kernelspec": {
      "name": "python3",
      "display_name": "Python 3"
    },
    "language_info": {
      "name": "python"
    }
  },
  "cells": [
    {
      "cell_type": "markdown",
      "metadata": {
        "id": "rTn0Py3_8AKf"
      },
      "source": [
        "##INVENTORY\n"
      ]
    },
    {
      "cell_type": "code",
      "metadata": {
        "id": "TtF23LuR5lf3"
      },
      "source": [
        "import json\n",
        "inventory={1:{'product name':'Lays','category':'Chips','price':10,'In_stock':300,'discount':0},\n",
        "           2:{'product name':'Cookies','category':'Bakery','price':5,'In_stock':260,'discount':1},\n",
        "           3:{'product name':'Coconut Oil','category':'Oils','price':70,'In_stock':200,'discount':5},\n",
        "           4:{'product name':'Santoor Soap','category':'Shower Bar','price':40,'In_stock':500,'discount':6},\n",
        "           5:{'product name':'Pantene','category':'Shampoo Bottle','price':130,'In_stock':150,'discount':10},\n",
        "           6:{'product name':'Kurkure','category':'Chips','price':10,'In_stock':300,'discount':0},\n",
        "           7:{'product name':'KitKat','category':'Chocolate','price':5,'In_stock':600,'discount':0},\n",
        "           8:{'product name':'5star','category':'Chocolate','price':5,'In_stock':500,'discount':0},\n",
        "           9:{'product name':'Hide&Seek','category':'Biscuit','price':35,'In_stock':250,'discount':5},\n",
        "           10:{'product name':'NutriChoice','category':'Biscuit','price':25,'In_stock':200,'discount':5},\n",
        "           11:{'product name':'GoodDay','category':'Biscuit','price':10,'In_stock':300,'discount':0},\n",
        "           12:{'product name':'SurfExcel','category':'Detergent Power','price':40,'In_stock':450,'discount':10},\n",
        "           13:{'product name':'Vim','category':'Dish Wash Bar','price':10,'In_stock':150,'discount':0},\n",
        "           14:{'product name':'Dairy Milk','category':'Chocolate','price':80,'In_stock':50,'discount':7},\n",
        "           15:{'product name':'Rin','category':'Detergent Bar','price':20,'In_stock':170,'discount':2},\n",
        "           16:{'product name':'Snickers','category':'Chocolate','price':40,'In_stock':100,'discount':4},\n",
        "           17:{'product name':'Krack Jack','category':'Biscuit','price':10,'In_stock':150,'discount':0},\n",
        "           18:{'product name':'Colgate Tooth Paste','category':'Tooth Paste','price':20,'In_stock':100,'discount':3},\n",
        "           19:{'product name':'Parle-G','category':'Biscuit','price':30,'In_stock':75,'discount':4},\n",
        "           20:{'product name':'Head&Shoulders','category':'Shampoo Bottle','price':120,'In_stock':150,'discount':8},\n",
        "           21:{'product name':'ClinicPlus','category':'Shampoo Bottle','price':50,'In_stock':45,'discount':0},\n",
        "           22:{'product name':'Colgate Tooth Brush','category':'Tooth Brush','price':20,'In_stock':150,'discount':1},\n",
        "           23:{'product name':'Ponds','category':'Face Powder','price':30,'In_stock':30,'discount':5},\n",
        "           24:{'product name':'Little Hearts','category':'Biscuit','price':10,'In_stock':110,'discount':0},\n",
        "           25:{'product name':'Carrot','category':'Vegetable','price':50,'In_stock':300,'discount':5},\n",
        "           26:{'product name':'Potato','category':'Vegetable','price':30,'In_stock':240,'discount':2},\n",
        "           27:{'product name':'Onion','category':'Vegetable','price':60,'In_stock':145,'discount':3},\n",
        "           28:{'product name':'Orange','category':'Fruit','price':12,'In_stock':190,'discount':0},\n",
        "           29:{'product name':'Apple','category':'Fruit','price':20,'In_stock':250,'discount':0},\n",
        "           30:{'product name':'Thumbs Up','category':'Cool drink','price':60,'In_stock':185,'discount':5},\n",
        "           }\n",
        "data=json.dumps(inventory)\n",
        "f=open('inventory.json','w')   \n",
        "f.write(data)\n",
        "f.close()           "
      ],
      "execution_count": 1,
      "outputs": []
    },
    {
      "cell_type": "markdown",
      "metadata": {
        "id": "hoSAjd4zVH0_"
      },
      "source": [
        "#BILLING"
      ]
    },
    {
      "cell_type": "code",
      "metadata": {
        "colab": {
          "base_uri": "https://localhost:8080/"
        },
        "id": "lJo0wtmoMU58",
        "outputId": "ac70085a-de73-4984-efd2-da6c069faac0"
      },
      "source": [
        "record=json.loads(data)\n",
        "total_products=int(input('Enter number of product items:'))\n",
        "print('********Bill********')\n",
        "totalcost=0\n",
        "sales={}\n",
        "for i in range(0,total_products):                           #taking input from the user for multiple products\n",
        "  ui_prod=input('Enter ProductID:')\n",
        "  ui_quant=int(input('Enter Quantity:'))\n",
        "  \n",
        "  record[ui_prod]['In_stock']=record[ui_prod]['In_stock']-ui_quant            #updating stock in the inventory\n",
        "\n",
        "  bill=(record[ui_prod]['price']-record[ui_prod]['discount'])*(ui_quant)      #bill of individual product\n",
        "  \n",
        "  print('Product Name:',record[ui_prod]['product name'])\n",
        "  print('Product Type:',record[ui_prod]['category'])\n",
        "  print('Product price:',record[ui_prod]['price'])\n",
        "  print('Discount:Rs.',record[ui_prod]['discount'])\n",
        "  print('Quantity:',ui_quant)\n",
        "  print('Total cost:Rs.',bill)\n",
        "  print('--------------------')\n",
        "  totalcost+=bill                                                                #total bill of all products\n",
        "  \n",
        "  sales[i+1]={'prod_id':ui_prod,'prod_name':record[ui_prod]['product name'],'prod_quan':ui_quant,'income':bill}\n",
        "                                                                                        #appending all the Sales \n",
        "print('Total Billing Amount:Rs.',totalcost)\n",
        "print('~~~~~~~~~~~~~~~~~~~~~~~~~~~~')\n",
        "print('*******HAVE A NICE DAY******')"
      ],
      "execution_count": 2,
      "outputs": [
        {
          "output_type": "stream",
          "name": "stdout",
          "text": [
            "Enter number of product items:3\n",
            "********Bill********\n",
            "Enter ProductID:25\n",
            "Enter Quantity5\n",
            "Product Name: Carrot\n",
            "Product Type: Vegetable\n",
            "Product price: 50\n",
            "Discount:Rs. 5\n",
            "Quantity: 5\n",
            "Total cost:Rs. 225\n",
            "--------------------\n",
            "Enter ProductID:4\n",
            "Enter Quantity8\n",
            "Product Name: Santoor Soap\n",
            "Product Type: Shower Bar\n",
            "Product price: 40\n",
            "Discount:Rs. 6\n",
            "Quantity: 8\n",
            "Total cost:Rs. 272\n",
            "--------------------\n",
            "Enter ProductID:5\n",
            "Enter Quantity4\n",
            "Product Name: Pantene\n",
            "Product Type: Shampoo Bottle\n",
            "Product price: 130\n",
            "Discount:Rs. 10\n",
            "Quantity: 4\n",
            "Total cost:Rs. 480\n",
            "--------------------\n",
            "Total Billing Amount:Rs. 977\n",
            "~~~~~~~~~~~~~~~~~~~~~~~~~~~~\n",
            "*******HAVE A NICE DAY******\n"
          ]
        }
      ]
    },
    {
      "cell_type": "markdown",
      "metadata": {
        "id": "oXRjj5UGVS7z"
      },
      "source": [
        "#Updating Inventory"
      ]
    },
    {
      "cell_type": "code",
      "metadata": {
        "id": "vpv_vBJQVdkW"
      },
      "source": [
        "inventory=json.dumps(record)\n",
        "f=fd = open(\"inventory.json\",'w')\n",
        "fd.write(inventory)\n",
        "fd.close()"
      ],
      "execution_count": null,
      "outputs": []
    },
    {
      "cell_type": "markdown",
      "metadata": {
        "id": "EbqhqoZHN8ST"
      },
      "source": [
        "##Sales Made"
      ]
    },
    {
      "cell_type": "code",
      "metadata": {
        "id": "AJVfSs3NJnW4"
      },
      "source": [
        "Market=json.dumps(sales)\n",
        "f=open('sales.json','w')\n",
        "f.write(Market)\n",
        "f.close()  "
      ],
      "execution_count": null,
      "outputs": []
    }
  ]
}