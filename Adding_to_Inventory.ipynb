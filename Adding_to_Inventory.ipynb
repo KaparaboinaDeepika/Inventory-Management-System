{
  "nbformat": 4,
  "nbformat_minor": 0,
  "metadata": {
    "colab": {
      "name": "Adding to Inventory.ipynb",
      "provenance": []
    },
    "kernelspec": {
      "name": "python3",
      "display_name": "Python 3"
    },
    "language_info": {
      "name": "python"
    }
  },
  "cells": [
    {
      "cell_type": "code",
      "metadata": {
        "colab": {
          "base_uri": "https://localhost:8080/"
        },
        "id": "W-7bRXBD9nx7",
        "outputId": "e1d33f5b-3497-4729-a505-85b1c2090142"
      },
      "source": [
        "import json\n",
        "\n",
        "fd = open(\"inventory.json\",'r')\n",
        "r = fd.read()\n",
        "fd.close()\n",
        "\n",
        "record = json.loads(r)\n",
        "\n",
        "#Changing price/discount/quantity for the existing product in the inventory\n",
        "\n",
        "prod_id = str(input(\"Enter product id:\"))\n",
        "if (prod_id in record):                             \n",
        "  change=input(\"Enter 'price' to change price of product or Enter 'quantity' to add quantity or Enter 'discount' to change the discount price\")\n",
        "  if (change=='price'):\n",
        "    newpr=int(input('Enter new price:'))\n",
        "    record[prod_id]['price']=newpr\n",
        "  elif (change=='quantity'):\n",
        "    newquan=int(input('Enter new Quantity to be added:'))\n",
        "    record[prod_id]['In_stock']=record[prod_id]['In_stock']+newquan\n",
        "  elif (change=='discount'):\n",
        "    newdispr=int (input('Enter new discount price:'))\n",
        "    record[prod_id]['discount']=newdispr\n",
        "else:                                                 #purchasing new product into the inventory\n",
        "  name = str(input(\"Enter name:\"))\n",
        "  category=str(input(\"Enter Category:\")) \n",
        "  pr = int(input(\"Enter price:\"))\n",
        "  qn = int(input(\"Enter quantity:\"))\n",
        "  discount=int(input(\"Enter Discount Price:\"))\n",
        "  record[prod_id] = {'product name':name,'category':category,'price':pr, 'In_stock':qn,'discount':discount}\n",
        "\n",
        "js = json.dumps(record)\n",
        "\n",
        "fd = open(\"inventory.json\",'w')\n",
        "fd.write(js)\n",
        "fd.close()\n"
      ],
      "execution_count": null,
      "outputs": [
        {
          "name": "stdout",
          "output_type": "stream",
          "text": [
            "Enter product id:3\n",
            "Enter 'price' to change price of product or Enter 'quantity' to add quantity or Enter 'discount' to change the discount priceprice\n",
            "Enter new price:30\n"
          ]
        }
      ]
    }
  ]
}